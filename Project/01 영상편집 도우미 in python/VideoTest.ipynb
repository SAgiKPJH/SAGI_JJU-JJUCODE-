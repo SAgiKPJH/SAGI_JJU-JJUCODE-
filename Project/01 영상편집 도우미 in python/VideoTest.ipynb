{
 "cells": [
  {
   "cell_type": "code",
   "execution_count": null,
   "metadata": {},
   "outputs": [],
   "source": []
  }
 ],
 "metadata": {
  "kernelspec": {
   "display_name": "Python 3.10.7 64-bit",
   "language": "python",
   "name": "python3"
  },
  "language_info": {
   "name": "python",
   "version": "3.10.7"
  },
  "orig_nbformat": 4,
  "vscode": {
   "interpreter": {
    "hash": "48ad18ec7782cf6bb417df3f10a21efd6436b6474a67983cdf1e4598cbf8f96a"
   }
  }
 },
 "nbformat": 4,
 "nbformat_minor": 2
}
