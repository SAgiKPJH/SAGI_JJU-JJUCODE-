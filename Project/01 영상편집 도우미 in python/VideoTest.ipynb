{
 "cells": [
  {
   "cell_type": "code",
   "execution_count": 21,
   "metadata": {},
   "outputs": [],
   "source": [
    "import cv2\n",
    "\n",
    "class videos():\n",
    "    \n",
    "    def __init__(self, string):\n",
    "        self.video = cv2.VideoCapture( string )\n",
    "        self.name = string\n",
    "        self.fps = self.video.get(cv2.CAP_PROP_FPS)\n",
    "        self.f_count = self.video.get(cv2.CAP_PROP_FRAME_COUNT)\n",
    "        self.f_width = self.video.get(cv2.CAP_PROP_FRAME_WIDTH)\n",
    "        self.f_height = self.video.get(cv2.CAP_PROP_FRAME_HEIGHT)\n",
    "\n",
    "    def __del__(self):\n",
    "        self.video.release()\n",
    "        \n",
    "    def ShowPropeties(self):\n",
    "        print(self.name + ' 정보')\n",
    "        print('  fps:', self.fps)\n",
    "        print('  f_count:', self.f_count)\n",
    "        print('  f_width:', self.f_width)\n",
    "        print('  f_height:', self.f_height)\n",
    "        print('  Video_Length:', self.f_count / self.fps)\n",
    "    \n",
    "\n",
    "    def Close(self):\n",
    "        self.video.release()"
   ]
  },
  {
   "cell_type": "code",
   "execution_count": 22,
   "metadata": {},
   "outputs": [
    {
     "name": "stdout",
     "output_type": "stream",
     "text": [
      "영상1.mp4 정보\n",
      "  fps: 29.877551020408163\n",
      "  f_count: 244.0\n",
      "  f_width: 1920.0\n",
      "  f_height: 1080.0\n",
      "  Video_Length: 8.166666666666666\n",
      "영상1.mp4  sec =  8.166666666666666\n",
      "영상2.mp4  sec =  77.36666666666666\n",
      "영상3.mp4  sec =  8.7\n"
     ]
    }
   ],
   "source": [
    "video1 = videos('영상1.mp4')\n",
    "video2 = videos('영상2.mp4')\n",
    "video3 = videos('영상3.mp4')\n",
    "\n",
    "video1.ShowPropeties()\n",
    "\n",
    "print(video1.name ,\" sec = \", video1.f_count / video1.fps)\n",
    "print(video2.name ,\" sec = \", video2.f_count / video2.fps)\n",
    "print(video3.name ,\" sec = \", video3.f_count / video3.fps)\n",
    "\n",
    "video1.Close()\n",
    "video2.Close()\n",
    "video3.Close()\n",
    "\n",
    "del video1\n",
    "del video2\n",
    "del video3"
   ]
  },
  {
   "cell_type": "code",
   "execution_count": null,
   "metadata": {},
   "outputs": [],
   "source": [
    "video1 = videos('영상1.mp4')\n",
    "\n",
    "while video1.video.isOpened():\n",
    "    ret, frame = video1.video.read()\n",
    "\n",
    "    if ret :\n",
    "        re_frame = cv2.resize(frame, (round(video1.f_width/4),round(video1.f_height/4)) )\n",
    "        cv2.imshow('VideoView', re_frame)\n",
    "        key = cv2.waitKey(10)\n",
    "\n",
    "        if key == ord('q'):\n",
    "            break\n",
    "    else:\n",
    "        break\n",
    "\n",
    "video1.Close()\n",
    "cv2.destroyAllWindows()"
   ]
  },
  {
   "cell_type": "code",
   "execution_count": null,
   "metadata": {},
   "outputs": [],
   "source": [
    "\n",
    "cv2.destroyAllWindows()"
   ]
  }
 ],
 "metadata": {
  "kernelspec": {
   "display_name": "Python 3.10.7 64-bit",
   "language": "python",
   "name": "python3"
  },
  "language_info": {
   "codemirror_mode": {
    "name": "ipython",
    "version": 3
   },
   "file_extension": ".py",
   "mimetype": "text/x-python",
   "name": "python",
   "nbconvert_exporter": "python",
   "pygments_lexer": "ipython3",
   "version": "3.10.7"
  },
  "orig_nbformat": 4,
  "vscode": {
   "interpreter": {
    "hash": "48ad18ec7782cf6bb417df3f10a21efd6436b6474a67983cdf1e4598cbf8f96a"
   }
  }
 },
 "nbformat": 4,
 "nbformat_minor": 2
}
